{
 "cells": [
  {
   "cell_type": "markdown",
   "metadata": {},
   "source": [
    "# We are trying to create a game that will most likely be succesfull. The two major questions we have are:\n",
    "### - Which genre will grow the most in the next 10 years?\n",
    "### - Which publisher will sell the most in the next 10 years?\n",
    "### - What type genre are we creating?\n",
    "### - Who will publish our game?"
   ]
  },
  {
   "cell_type": "code",
   "execution_count": 291,
   "metadata": {},
   "outputs": [],
   "source": [
    "#Load packages\n",
    "import pandas as pd\n",
    "import numpy as np\n",
    "import seaborn as sns\n",
    "import datetime\n",
    "import matplotlib.pyplot as plt\n",
    "from itertools import groupby\n",
    "from statsmodels.tsa.arima.model import ARIMA\n",
    "plt.style.use('bmh')"
   ]
  },
  {
   "cell_type": "code",
   "execution_count": 292,
   "metadata": {},
   "outputs": [],
   "source": [
    "#Load Dataset\n",
    "file = \"vgsales.csv\"\n",
    "df = pd.read_csv(file)"
   ]
  },
  {
   "cell_type": "code",
   "execution_count": 293,
   "metadata": {},
   "outputs": [
    {
     "data": {
      "text/plain": [
       "182578"
      ]
     },
     "execution_count": 293,
     "metadata": {},
     "output_type": "execute_result"
    }
   ],
   "source": [
    "df.size"
   ]
  },
  {
   "cell_type": "markdown",
   "metadata": {},
   "source": [
    "## Exploratory Analysis & Feature Selection/Engineering"
   ]
  },
  {
   "cell_type": "code",
   "execution_count": 294,
   "metadata": {},
   "outputs": [
    {
     "data": {
      "text/plain": [
       "Rank              0\n",
       "Name              0\n",
       "Platform          0\n",
       "Year            271\n",
       "Genre             0\n",
       "Publisher        58\n",
       "NA_Sales          0\n",
       "EU_Sales          0\n",
       "JP_Sales          0\n",
       "Other_Sales       0\n",
       "Global_Sales      0\n",
       "dtype: int64"
      ]
     },
     "execution_count": 294,
     "metadata": {},
     "output_type": "execute_result"
    }
   ],
   "source": [
    "df.isnull().sum()"
   ]
  },
  {
   "cell_type": "code",
   "execution_count": 295,
   "metadata": {},
   "outputs": [
    {
     "data": {
      "text/plain": [
       "<AxesSubplot:>"
      ]
     },
     "execution_count": 295,
     "metadata": {},
     "output_type": "execute_result"
    },
    {
     "data": {
      "image/png": "[encoded data removed]",
      "text/plain": [
       "<Figure size 432x288 with 1 Axes>"
      ]
     },
     "metadata": {},
     "output_type": "display_data"
    }
   ],
   "source": [
    "#checking where are the NA values :)\n",
    "sns.heatmap(df.isnull(),cbar=False,yticklabels=False,cmap='viridis')"
   ]
  },
  {
   "cell_type": "code",
   "execution_count": 296,
   "metadata": {},
   "outputs": [],
   "source": [
    "df = df.dropna()"
   ]
  },
  {
   "cell_type": "code",
   "execution_count": 297,
   "metadata": {},
   "outputs": [
    {
     "name": "stdout",
     "output_type": "stream",
     "text": [
      "<class 'pandas.core.frame.DataFrame'>\n",
      "Int64Index: 16291 entries, 0 to 16597\n",
      "Data columns (total 11 columns):\n",
      " #   Column        Non-Null Count  Dtype  \n",
      "---  ------        --------------  -----  \n",
      " 0   Rank          16291 non-null  int64  \n",
      " 1   Name          16291 non-null  object \n",
      " 2   Platform      16291 non-null  object \n",
      " 3   Year          16291 non-null  float64\n",
      " 4   Genre         16291 non-null  object \n",
      " 5   Publisher     16291 non-null  object \n",
      " 6   NA_Sales      16291 non-null  float64\n",
      " 7   EU_Sales      16291 non-null  float64\n",
      " 8   JP_Sales      16291 non-null  float64\n",
      " 9   Other_Sales   16291 non-null  float64\n",
      " 10  Global_Sales  16291 non-null  float64\n",
      "dtypes: float64(6), int64(1), object(4)\n",
      "memory usage: 1.5+ MB\n"
     ]
    }
   ],
   "source": [
    "df.info()"
   ]
  },
  {
   "cell_type": "code",
   "execution_count": 298,
   "metadata": {},
   "outputs": [
    {
     "data": {
      "text/html": [
       "<div>\n",
       "<style scoped>\n",
       "    .dataframe tbody tr th:only-of-type {\n",
       "        vertical-align: middle;\n",
       "    }\n",
       "\n",
       "    .dataframe tbody tr th {\n",
       "        vertical-align: top;\n",
       "    }\n",
       "\n",
       "    .dataframe thead th {\n",
       "        text-align: right;\n",
       "    }\n",
       "</style>\n",
       "<table border=\"1\" class=\"dataframe\">\n",
       "  <thead>\n",
       "    <tr style=\"text-align: right;\">\n",
       "      <th></th>\n",
       "      <th>Rank</th>\n",
       "      <th>Name</th>\n",
       "      <th>Platform</th>\n",
       "      <th>Year</th>\n",
       "      <th>Genre</th>\n",
       "      <th>Publisher</th>\n",
       "      <th>NA_Sales</th>\n",
       "      <th>EU_Sales</th>\n",
       "      <th>JP_Sales</th>\n",
       "      <th>Other_Sales</th>\n",
       "      <th>Global_Sales</th>\n",
       "    </tr>\n",
       "  </thead>\n",
       "  <tbody>\n",
       "    <tr>\n",
       "      <th>0</th>\n",
       "      <td>1</td>\n",
       "      <td>Wii Sports</td>\n",
       "      <td>Wii</td>\n",
       "      <td>2006-01-01</td>\n",
       "      <td>Sports</td>\n",
       "      <td>Nintendo</td>\n",
       "      <td>41.49</td>\n",
       "      <td>29.02</td>\n",
       "      <td>3.77</td>\n",
       "      <td>8.46</td>\n",
       "      <td>82.74</td>\n",
       "    </tr>\n",
       "    <tr>\n",
       "      <th>1</th>\n",
       "      <td>2</td>\n",
       "      <td>Super Mario Bros.</td>\n",
       "      <td>NES</td>\n",
       "      <td>1985-01-01</td>\n",
       "      <td>Platform</td>\n",
       "      <td>Nintendo</td>\n",
       "      <td>29.08</td>\n",
       "      <td>3.58</td>\n",
       "      <td>6.81</td>\n",
       "      <td>0.77</td>\n",
       "      <td>40.24</td>\n",
       "    </tr>\n",
       "    <tr>\n",
       "      <th>2</th>\n",
       "      <td>3</td>\n",
       "      <td>Mario Kart Wii</td>\n",
       "      <td>Wii</td>\n",
       "      <td>2008-01-01</td>\n",
       "      <td>Racing</td>\n",
       "      <td>Nintendo</td>\n",
       "      <td>15.85</td>\n",
       "      <td>12.88</td>\n",
       "      <td>3.79</td>\n",
       "      <td>3.31</td>\n",
       "      <td>35.82</td>\n",
       "    </tr>\n",
       "    <tr>\n",
       "      <th>3</th>\n",
       "      <td>4</td>\n",
       "      <td>Wii Sports Resort</td>\n",
       "      <td>Wii</td>\n",
       "      <td>2009-01-01</td>\n",
       "      <td>Sports</td>\n",
       "      <td>Nintendo</td>\n",
       "      <td>15.75</td>\n",
       "      <td>11.01</td>\n",
       "      <td>3.28</td>\n",
       "      <td>2.96</td>\n",
       "      <td>33.00</td>\n",
       "    </tr>\n",
       "    <tr>\n",
       "      <th>4</th>\n",
       "      <td>5</td>\n",
       "      <td>Pokemon Red/Pokemon Blue</td>\n",
       "      <td>GB</td>\n",
       "      <td>1996-01-01</td>\n",
       "      <td>Role-Playing</td>\n",
       "      <td>Nintendo</td>\n",
       "      <td>11.27</td>\n",
       "      <td>8.89</td>\n",
       "      <td>10.22</td>\n",
       "      <td>1.00</td>\n",
       "      <td>31.37</td>\n",
       "    </tr>\n",
       "  </tbody>\n",
       "</table>\n",
       "</div>"
      ],
      "text/plain": [
       "   Rank                      Name Platform       Year         Genre Publisher  \\\n",
       "0     1                Wii Sports      Wii 2006-01-01        Sports  Nintendo   \n",
       "1     2         Super Mario Bros.      NES 1985-01-01      Platform  Nintendo   \n",
       "2     3            Mario Kart Wii      Wii 2008-01-01        Racing  Nintendo   \n",
       "3     4         Wii Sports Resort      Wii 2009-01-01        Sports  Nintendo   \n",
       "4     5  Pokemon Red/Pokemon Blue       GB 1996-01-01  Role-Playing  Nintendo   \n",
       "\n",
       "   NA_Sales  EU_Sales  JP_Sales  Other_Sales  Global_Sales  \n",
       "0     41.49     29.02      3.77         8.46         82.74  \n",
       "1     29.08      3.58      6.81         0.77         40.24  \n",
       "2     15.85     12.88      3.79         3.31         35.82  \n",
       "3     15.75     11.01      3.28         2.96         33.00  \n",
       "4     11.27      8.89     10.22         1.00         31.37  "
      ]
     },
     "execution_count": 298,
     "metadata": {},
     "output_type": "execute_result"
    }
   ],
   "source": [
    "df['Year'] = pd.to_datetime(df['Year'], format='%Y')\n",
    "df.head()"
   ]
  },
  {
   "cell_type": "markdown",
   "metadata": {},
   "source": [
    "### Publisher,count of games and average sales"
   ]
  },
  {
   "cell_type": "code",
   "execution_count": 299,
   "metadata": {},
   "outputs": [
    {
     "data": {
      "text/html": [
       "<div>\n",
       "<style scoped>\n",
       "    .dataframe tbody tr th:only-of-type {\n",
       "        vertical-align: middle;\n",
       "    }\n",
       "\n",
       "    .dataframe tbody tr th {\n",
       "        vertical-align: top;\n",
       "    }\n",
       "\n",
       "    .dataframe thead th {\n",
       "        text-align: right;\n",
       "    }\n",
       "</style>\n",
       "<table border=\"1\" class=\"dataframe\">\n",
       "  <thead>\n",
       "    <tr style=\"text-align: right;\">\n",
       "      <th></th>\n",
       "      <th>Publisher</th>\n",
       "      <th>count</th>\n",
       "      <th>Global_Avg_Sales</th>\n",
       "    </tr>\n",
       "  </thead>\n",
       "  <tbody>\n",
       "    <tr>\n",
       "      <th>138</th>\n",
       "      <td>Electronic Arts</td>\n",
       "      <td>1339</td>\n",
       "      <td>1.874050</td>\n",
       "    </tr>\n",
       "    <tr>\n",
       "      <th>21</th>\n",
       "      <td>Activision</td>\n",
       "      <td>966</td>\n",
       "      <td>2.219953</td>\n",
       "    </tr>\n",
       "    <tr>\n",
       "      <th>347</th>\n",
       "      <td>Namco Bandai Games</td>\n",
       "      <td>928</td>\n",
       "      <td>0.905669</td>\n",
       "    </tr>\n",
       "    <tr>\n",
       "      <th>524</th>\n",
       "      <td>Ubisoft</td>\n",
       "      <td>918</td>\n",
       "      <td>1.527181</td>\n",
       "    </tr>\n",
       "    <tr>\n",
       "      <th>275</th>\n",
       "      <td>Konami Digital Entertainment</td>\n",
       "      <td>823</td>\n",
       "      <td>1.072536</td>\n",
       "    </tr>\n",
       "  </tbody>\n",
       "</table>\n",
       "</div>"
      ],
      "text/plain": [
       "                        Publisher  count  Global_Avg_Sales\n",
       "138               Electronic Arts   1339          1.874050\n",
       "21                     Activision    966          2.219953\n",
       "347            Namco Bandai Games    928          0.905669\n",
       "524                       Ubisoft    918          1.527181\n",
       "275  Konami Digital Entertainment    823          1.072536"
      ]
     },
     "execution_count": 299,
     "metadata": {},
     "output_type": "execute_result"
    }
   ],
   "source": [
    "publishercount = pd.DataFrame(df.groupby('Publisher').size().reset_index(name='count'))\n",
    "publishercount.sort_values(\"count\", ascending=False)\n",
    "publisheravgsales = pd.DataFrame(df.groupby(['Publisher', 'Global_Sales'], as_index=False).mean().groupby('Publisher')['Global_Sales'].mean())\n",
    "publisher = pd.merge(publishercount, publisheravgsales, on='Publisher').sort_values('count', ascending=False)\n",
    "publisher = publisher.rename(columns={'Global_Sales':'Global_Avg_Sales'})\n",
    "publisher.head()"
   ]
  },
  {
   "cell_type": "code",
   "execution_count": 300,
   "metadata": {},
   "outputs": [
    {
     "data": {
      "text/plain": [
       "Text(0.5, 1.0, 'Sales per Publisher since 1980')"
      ]
     },
     "execution_count": 300,
     "metadata": {},
     "output_type": "execute_result"
    },
    {
     "data": {
      "image/png": "[encoded data removed]",
      "text/plain": [
       "<Figure size 432x288 with 1 Axes>"
      ]
     },
     "metadata": {},
     "output_type": "display_data"
    }
   ],
   "source": [
    "plt.barh(publisher['Publisher'].head(10), publisher['count'].head(10))\n",
    "plt.xlabel('Global Sales since 1980')\n",
    "plt.ylabel('Publisher')\n",
    "plt.title('Sales per Publisher since 1980')"
   ]
  },
  {
   "cell_type": "markdown",
   "metadata": {},
   "source": [
    "### Genre, count of games and average sales"
   ]
  },
  {
   "cell_type": "code",
   "execution_count": 301,
   "metadata": {},
   "outputs": [
    {
     "data": {
      "text/html": [
       "<div>\n",
       "<style scoped>\n",
       "    .dataframe tbody tr th:only-of-type {\n",
       "        vertical-align: middle;\n",
       "    }\n",
       "\n",
       "    .dataframe tbody tr th {\n",
       "        vertical-align: top;\n",
       "    }\n",
       "\n",
       "    .dataframe thead th {\n",
       "        text-align: right;\n",
       "    }\n",
       "</style>\n",
       "<table border=\"1\" class=\"dataframe\">\n",
       "  <thead>\n",
       "    <tr style=\"text-align: right;\">\n",
       "      <th></th>\n",
       "      <th>Genre</th>\n",
       "      <th>count</th>\n",
       "      <th>Global_Avg_Sales</th>\n",
       "    </tr>\n",
       "  </thead>\n",
       "  <tbody>\n",
       "    <tr>\n",
       "      <th>0</th>\n",
       "      <td>Action</td>\n",
       "      <td>3251</td>\n",
       "      <td>2.483003</td>\n",
       "    </tr>\n",
       "    <tr>\n",
       "      <th>10</th>\n",
       "      <td>Sports</td>\n",
       "      <td>2304</td>\n",
       "      <td>2.324170</td>\n",
       "    </tr>\n",
       "    <tr>\n",
       "      <th>3</th>\n",
       "      <td>Misc</td>\n",
       "      <td>1686</td>\n",
       "      <td>2.056804</td>\n",
       "    </tr>\n",
       "    <tr>\n",
       "      <th>7</th>\n",
       "      <td>Role-Playing</td>\n",
       "      <td>1470</td>\n",
       "      <td>2.415244</td>\n",
       "    </tr>\n",
       "    <tr>\n",
       "      <th>8</th>\n",
       "      <td>Shooter</td>\n",
       "      <td>1282</td>\n",
       "      <td>2.559401</td>\n",
       "    </tr>\n",
       "  </tbody>\n",
       "</table>\n",
       "</div>"
      ],
      "text/plain": [
       "           Genre  count  Global_Avg_Sales\n",
       "0         Action   3251          2.483003\n",
       "10        Sports   2304          2.324170\n",
       "3           Misc   1686          2.056804\n",
       "7   Role-Playing   1470          2.415244\n",
       "8        Shooter   1282          2.559401"
      ]
     },
     "execution_count": 301,
     "metadata": {},
     "output_type": "execute_result"
    }
   ],
   "source": [
    "genrecount = pd.DataFrame(df.groupby('Genre').size().reset_index(name='count'))\n",
    "genrecount.sort_values(\"count\", ascending=False)\n",
    "genreavgsales = pd.DataFrame(df.groupby(['Genre', 'Global_Sales'], as_index=False).mean().groupby('Genre')['Global_Sales'].mean())\n",
    "genre = pd.merge(genrecount, genreavgsales, on='Genre').sort_values('count', ascending=False)\n",
    "genre = genre.rename(columns={'Global_Sales':'Global_Avg_Sales'})\n",
    "genre.head()"
   ]
  },
  {
   "cell_type": "code",
   "execution_count": 302,
   "metadata": {},
   "outputs": [
    {
     "data": {
      "text/plain": [
       "Text(0.5, 1.0, 'Sales per Genre since 1980')"
      ]
     },
     "execution_count": 302,
     "metadata": {},
     "output_type": "execute_result"
    },
    {
     "data": {
      "image/png": "[encoded data removed]",
      "text/plain": [
       "<Figure size 432x288 with 1 Axes>"
      ]
     },
     "metadata": {},
     "output_type": "display_data"
    }
   ],
   "source": [
    "plt.barh(genre['Genre'].head(10), genre['count'].head(10))\n",
    "plt.xlabel('Global Sales since 1980')\n",
    "plt.ylabel('Genre')\n",
    "plt.title('Sales per Genre since 1980')"
   ]
  },
  {
   "cell_type": "markdown",
   "metadata": {},
   "source": [
    "### Platform, count of games and average sales\n"
   ]
  },
  {
   "cell_type": "code",
   "execution_count": 303,
   "metadata": {},
   "outputs": [
    {
     "data": {
      "text/html": [
       "<div>\n",
       "<style scoped>\n",
       "    .dataframe tbody tr th:only-of-type {\n",
       "        vertical-align: middle;\n",
       "    }\n",
       "\n",
       "    .dataframe tbody tr th {\n",
       "        vertical-align: top;\n",
       "    }\n",
       "\n",
       "    .dataframe thead th {\n",
       "        text-align: right;\n",
       "    }\n",
       "</style>\n",
       "<table border=\"1\" class=\"dataframe\">\n",
       "  <thead>\n",
       "    <tr style=\"text-align: right;\">\n",
       "      <th></th>\n",
       "      <th>Platform</th>\n",
       "      <th>count</th>\n",
       "      <th>Global_Avg_Sales</th>\n",
       "    </tr>\n",
       "  </thead>\n",
       "  <tbody>\n",
       "    <tr>\n",
       "      <th>4</th>\n",
       "      <td>DS</td>\n",
       "      <td>2131</td>\n",
       "      <td>2.317295</td>\n",
       "    </tr>\n",
       "    <tr>\n",
       "      <th>16</th>\n",
       "      <td>PS2</td>\n",
       "      <td>2127</td>\n",
       "      <td>2.118805</td>\n",
       "    </tr>\n",
       "    <tr>\n",
       "      <th>17</th>\n",
       "      <td>PS3</td>\n",
       "      <td>1304</td>\n",
       "      <td>2.174706</td>\n",
       "    </tr>\n",
       "    <tr>\n",
       "      <th>26</th>\n",
       "      <td>Wii</td>\n",
       "      <td>1290</td>\n",
       "      <td>2.869120</td>\n",
       "    </tr>\n",
       "    <tr>\n",
       "      <th>28</th>\n",
       "      <td>X360</td>\n",
       "      <td>1234</td>\n",
       "      <td>2.310345</td>\n",
       "    </tr>\n",
       "  </tbody>\n",
       "</table>\n",
       "</div>"
      ],
      "text/plain": [
       "   Platform  count  Global_Avg_Sales\n",
       "4        DS   2131          2.317295\n",
       "16      PS2   2127          2.118805\n",
       "17      PS3   1304          2.174706\n",
       "26      Wii   1290          2.869120\n",
       "28     X360   1234          2.310345"
      ]
     },
     "execution_count": 303,
     "metadata": {},
     "output_type": "execute_result"
    }
   ],
   "source": [
    "platformcount = pd.DataFrame(df.groupby('Platform').size().reset_index(name='count'))\n",
    "platformcount.sort_values('count',ascending=False)\n",
    "platformavgsales = pd.DataFrame(df.groupby(['Platform', 'Global_Sales'], as_index=False).mean().groupby('Platform')['Global_Sales'].mean())\n",
    "platform = pd.merge(platformcount, platformavgsales, on='Platform').sort_values('count', ascending=False)\n",
    "platform = platform.rename(columns={'Global_Sales':'Global_Avg_Sales'})\n",
    "platform.head()"
   ]
  },
  {
   "cell_type": "code",
   "execution_count": 304,
   "metadata": {},
   "outputs": [
    {
     "data": {
      "text/plain": [
       "Text(0.5, 1.0, 'Sales per Platform since 1980')"
      ]
     },
     "execution_count": 304,
     "metadata": {},
     "output_type": "execute_result"
    },
    {
     "data": {
      "image/png": "[encoded data removed]",
      "text/plain": [
       "<Figure size 432x288 with 1 Axes>"
      ]
     },
     "metadata": {},
     "output_type": "display_data"
    }
   ],
   "source": [
    "plt.barh(platform['Platform'].head(10), platform['count'].head(10))\n",
    "plt.xlabel('Global Sales since 1980')\n",
    "plt.ylabel('Platform')\n",
    "plt.title('Sales per Platform since 1980')"
   ]
  },
  {
   "cell_type": "markdown",
   "metadata": {},
   "source": [
    "### Sales after 2010\n",
    "#### Results might be influenced by total sales per platform overall"
   ]
  },
  {
   "cell_type": "code",
   "execution_count": 305,
   "metadata": {},
   "outputs": [
    {
     "data": {
      "text/plain": [
       "56474"
      ]
     },
     "execution_count": 305,
     "metadata": {},
     "output_type": "execute_result"
    }
   ],
   "source": [
    "df2010 = df.loc[(df['Year'] >= '2010-01-01')]\n",
    "df2010.size"
   ]
  },
  {
   "cell_type": "code",
   "execution_count": 306,
   "metadata": {},
   "outputs": [
    {
     "data": {
      "text/plain": [
       "Text(0.5, 1.0, 'Sales per Genre since 2010')"
      ]
     },
     "execution_count": 306,
     "metadata": {},
     "output_type": "execute_result"
    },
    {
     "data": {
      "image/png": "[encoded data removed]",
      "text/plain": [
       "<Figure size 432x288 with 1 Axes>"
      ]
     },
     "metadata": {},
     "output_type": "display_data"
    }
   ],
   "source": [
    "genrecount2010 = pd.DataFrame(df2010.groupby('Genre').size().reset_index(name='count'))\n",
    "genreavgsales2010 = pd.DataFrame(df2010.groupby(['Genre', 'Global_Sales'], as_index=False).mean().groupby('Genre')['Global_Sales'].mean())\n",
    "genre2010 = pd.merge(genrecount2010, genreavgsales2010, on='Genre').sort_values('count', ascending=False)\n",
    "genre2010 = genre2010.rename(columns={'Global_Sales':'Global_Avg_Sales'})\n",
    "plt.barh(genre2010['Genre'].head(10), genre2010['count'].head(10))\n",
    "plt.xlabel('Global Sales since 2010')\n",
    "plt.ylabel('Genre')\n",
    "plt.title('Sales per Genre since 2010')"
   ]
  },
  {
   "cell_type": "code",
   "execution_count": 307,
   "metadata": {},
   "outputs": [
    {
     "data": {
      "text/plain": [
       "Text(0.5, 1.0, 'Sales per Publisher since 2010')"
      ]
     },
     "execution_count": 307,
     "metadata": {},
     "output_type": "execute_result"
    },
    {
     "data": {
      "image/png": "[encoded data removed]",
      "text/plain": [
       "<Figure size 432x288 with 1 Axes>"
      ]
     },
     "metadata": {},
     "output_type": "display_data"
    }
   ],
   "source": [
    "publishercount2010 = pd.DataFrame(df2010.groupby('Publisher').size().reset_index(name='count'))\n",
    "publisheravgsales2010 = pd.DataFrame(df2010.groupby(['Publisher', 'Global_Sales'], as_index=False).mean().groupby('Publisher')['Global_Sales'].mean())\n",
    "publisher2010 = pd.merge(publishercount2010, publisheravgsales2010, on='Publisher').sort_values('count', ascending=False)\n",
    "publisher2010 = publisher2010.rename(columns={'Global_Sales':'Global_Avg_Sales'})\n",
    "plt.barh(publisher2010['Publisher'].head(10), publisher2010['count'].head(10))\n",
    "plt.xlabel('Global Sales since 2010')\n",
    "plt.ylabel('Publisher')\n",
    "plt.title('Sales per Publisher since 2010')"
   ]
  },
  {
   "cell_type": "markdown",
   "metadata": {},
   "source": [
    "## Feature Engineering for ARIMA Model"
   ]
  },
  {
   "cell_type": "code",
   "execution_count": 308,
   "metadata": {},
   "outputs": [],
   "source": [
    "sports = df.loc[(df['Genre'] == 'Sports')]\n",
    "action = df.loc[(df['Genre'] == 'Action')]\n",
    "roleplay = df.loc[(df['Genre'] == 'Role-Playing')]\n",
    "frames = [sports, action, roleplay]\n",
    "dfarima = pd.concat(frames)"
   ]
  },
  {
   "cell_type": "code",
   "execution_count": 309,
   "metadata": {},
   "outputs": [],
   "source": [
    "dfarima2010 = dfarima.loc[(dfarima['Year'] >= '2010-01-01')]"
   ]
  },
  {
   "cell_type": "markdown",
   "metadata": {},
   "source": [
    "####  Since 1980 the Genre with the most sales have been\n",
    "1. Action\n",
    "2. Sports\n",
    "3. Role-play"
   ]
  },
  {
   "cell_type": "code",
   "execution_count": 310,
   "metadata": {},
   "outputs": [],
   "source": [
    "genrearimadf = pd.DataFrame(dfarima.groupby(['Year','Genre'], as_index=False).agg(globalsalessum=('Global_Sales', 'sum')))"
   ]
  },
  {
   "cell_type": "markdown",
   "metadata": {},
   "source": [
    "####  Since 2010 the Genre with the most sales have been\n",
    "1. Action\n",
    "2. Sports\n",
    "3. Role-play"
   ]
  },
  {
   "cell_type": "code",
   "execution_count": 311,
   "metadata": {},
   "outputs": [],
   "source": [
    "genrearimadf2010 = pd.DataFrame(dfarima2010.groupby(['Year','Genre'], as_index=False).agg(globalsalessum=('Global_Sales', 'sum')))"
   ]
  },
  {
   "cell_type": "markdown",
   "metadata": {},
   "source": [
    "####  Since 1980 the Publishers with the most sales have been\n",
    "1. Electronic Arts\n",
    "2. Activision\n",
    "3. Namco Bandai Games"
   ]
  },
  {
   "cell_type": "code",
   "execution_count": 312,
   "metadata": {},
   "outputs": [],
   "source": [
    "publisherarimadf = pd.DataFrame(dfarima.groupby(['Year','Publisher'], as_index=False).agg(globalsalessum=('Global_Sales', 'sum')))"
   ]
  },
  {
   "cell_type": "markdown",
   "metadata": {},
   "source": [
    "####  Since 2010 the Publishers with the most sales have been\n",
    "1. Namco Bandai Games\n",
    "2. Electronic Arts\n",
    "3. Activision"
   ]
  },
  {
   "cell_type": "code",
   "execution_count": 313,
   "metadata": {},
   "outputs": [],
   "source": [
    "publisherarimadf2010 = pd.DataFrame(dfarima2010.groupby(['Year','Publisher'], as_index=False).agg(globalsalessum=('Global_Sales', 'sum')))"
   ]
  },
  {
   "cell_type": "markdown",
   "metadata": {},
   "source": [
    "### ARIMA\n",
    "- Run ARIMA model with current data and no train/test/val dfs. -> project future outcomes\n",
    "- might not weight negative value consoles that don't produce games anymore"
   ]
  },
  {
   "cell_type": "markdown",
   "metadata": {},
   "source": [
    "#### Market Basket\n",
    "- Great to see which console sells the most of each game. {milk} -> {diapers}\n",
    "- Could also be used to see combinations of {platform, genre, publisher}"
   ]
  },
  {
   "cell_type": "markdown",
   "metadata": {},
   "source": [
    "### Regression\n",
    "- Might work to see how sales trend throughout the years, can use platform, genre and publisher"
   ]
  },
  {
   "cell_type": "code",
   "execution_count": 314,
   "metadata": {},
   "outputs": [],
   "source": [
    "#Market Basket"
   ]
  },
  {
   "cell_type": "code",
   "execution_count": 315,
   "metadata": {},
   "outputs": [],
   "source": [
    "#Biggest genre growth - ARIMA"
   ]
  },
  {
   "cell_type": "code",
   "execution_count": 316,
   "metadata": {},
   "outputs": [],
   "source": [
    "#Biggest publisher growth - ARIMA"
   ]
  }
 ],
 "metadata": {
  "kernelspec": {
   "display_name": "Python 3.9.7 ('base')",
   "language": "python",
   "name": "python3"
  },
  "language_info": {
   "codemirror_mode": {
    "name": "ipython",
    "version": 3
   },
   "file_extension": ".py",
   "mimetype": "text/x-python",
   "name": "python",
   "nbconvert_exporter": "python",
   "pygments_lexer": "ipython3",
   "version": "3.9.7"
  },
  "orig_nbformat": 4,
  "vscode": {
   "interpreter": {
    "hash": "8ec15be9309793bbbec512ec65776eb2ea018a91cbfaf1fcbf2ee64feed0bbda"
   }
  }
 },
 "nbformat": 4,
 "nbformat_minor": 2
}
